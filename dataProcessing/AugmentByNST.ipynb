{
  "nbformat": 4,
  "nbformat_minor": 0,
  "metadata": {
    "colab": {
      "name": "AugmentByNST.ipynb",
      "provenance": [],
      "collapsed_sections": []
    },
    "kernelspec": {
      "name": "python3",
      "display_name": "Python 3"
    },
    "language_info": {
      "name": "python"
    },
    "accelerator": "GPU"
  },
  "cells": [
    {
      "cell_type": "code",
      "execution_count": null,
      "metadata": {
        "id": "Px21Wz-XzbxT"
      },
      "outputs": [],
      "source": [
        "import tensorflow_hub as hub\n",
        "import tensorflow as tf\n",
        "from matplotlib import pyplot as plt\n",
        "import numpy as np\n",
        "import cv2\n",
        "import os\n",
        "import shutil\n",
        "import random"
      ]
    },
    {
      "cell_type": "code",
      "source": [
        "model = hub.load('https://tfhub.dev/google/magenta/arbitrary-image-stylization-v1-256/2')"
      ],
      "metadata": {
        "id": "PDx7Qvdqzj0T"
      },
      "execution_count": null,
      "outputs": []
    },
    {
      "cell_type": "code",
      "source": [
        "def load_image(img_path):\n",
        "    img = tf.io.read_file(img_path)\n",
        "    img = tf.image.decode_image(img, channels=3)\n",
        "    img = tf.image.convert_image_dtype(img, tf.float32)\n",
        "    img = img[tf.newaxis, :]\n",
        "    return img"
      ],
      "metadata": {
        "id": "ABk4th1I0FQp"
      },
      "execution_count": null,
      "outputs": []
    },
    {
      "cell_type": "code",
      "source": [
        "TEXTURE_PATH = '/content/drive/MyDrive/texture/'\n",
        "style_images = []\n",
        "for i in range(1,7):\n",
        "  img_path = TEXTURE_PATH + str(i) + '.jpg'\n",
        "  img = load_image(img_path)\n",
        "  style_images.append(img)"
      ],
      "metadata": {
        "id": "wHuw6kvJ0Los"
      },
      "execution_count": null,
      "outputs": []
    },
    {
      "cell_type": "code",
      "source": [
        "TRAIN_IMAGE = '/content/drive/MyDrive/dataset/images/train'\n",
        "TRAIN_LABEL = '/content/drive/MyDrive/dataset/labels/train'\n",
        "AUG_TRAIN_IMAGE = '/content/drive/MyDrive/dataset/images/augment'\n",
        "AUG_TRAIN_LABEL = '/content/drive/MyDrive/dataset/labels/augment'\n",
        "count = 2000\n",
        "for i in range(1,793):\n",
        "  img_path = os.path.join(TRAIN_IMAGE, str(i) + \".jpg\")\n",
        "  label_path = os.path.join(TRAIN_LABEL, str(i) + \".txt\")\n",
        "  content_image = load_image(img_path)\n",
        "  style_image = random.choice(style_images)\n",
        "  stylized_image = model(tf.constant(content_image), tf.constant(style_image))[0]\n",
        "  cv2.imwrite(os.path.join(AUG_TRAIN_IMAGE, str(count+i) + \".jpg\"), cv2.cvtColor(np.squeeze(stylized_image)*255, cv2.COLOR_BGR2RGB))\n",
        "  shutil.copyfile(label_path, os.path.join(AUG_TRAIN_LABEL, str(count+i) + \".txt\"))"
      ],
      "metadata": {
        "id": "RIxeFCwr1WB_"
      },
      "execution_count": null,
      "outputs": []
    }
  ]
}